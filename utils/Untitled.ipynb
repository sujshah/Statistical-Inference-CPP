{
 "cells": [
  {
   "cell_type": "code",
   "execution_count": 6,
   "metadata": {},
   "outputs": [],
   "source": [
    "import numpy as np\n",
    "import pandas as pd\n",
    "import matplotlib.pyplot as plt\n",
    "import pystan"
   ]
  },
  {
   "cell_type": "code",
   "execution_count": 14,
   "metadata": {
    "scrolled": true
   },
   "outputs": [
    {
     "data": {
      "text/plain": [
       "array([-2.50169959, -1.94048582, -0.51004943, -0.20407298, -0.22199685])"
      ]
     },
     "execution_count": 14,
     "metadata": {},
     "output_type": "execute_result"
    }
   ],
   "source": [
    "import simulation, distributions\n",
    "MoG = distributions.MixtureOfGaussians([0.8,0.2], [2,-1],[1,1])\n",
    "Gaussian = distributions.Gaussian()\n",
    "jumps = simulation.CPPSimulation(1, Gaussian).observe_jumps(1, 5000)\n",
    "jumps[:5]"
   ]
  },
  {
   "cell_type": "code",
   "execution_count": 15,
   "metadata": {},
   "outputs": [
    {
     "data": {
      "text/plain": [
       "(array([  1.,   1.,   5.,   6.,  12.,  21.,  64., 130., 249., 456., 670.,\n",
       "        872., 865., 673., 445., 244., 151.,  75.,  29.,  12.,   9.,   8.,\n",
       "          1.]),\n",
       " array([-6. , -5.5, -5. , -4.5, -4. , -3.5, -3. , -2.5, -2. , -1.5, -1. ,\n",
       "        -0.5,  0. ,  0.5,  1. ,  1.5,  2. ,  2.5,  3. ,  3.5,  4. ,  4.5,\n",
       "         5. ,  5.5]),\n",
       " <a list of 23 Patch objects>)"
      ]
     },
     "execution_count": 15,
     "metadata": {},
     "output_type": "execute_result"
    },
    {
     "data": {
      "image/png": "[encoded data removed]",
      "text/plain": [
       "<Figure size 432x288 with 1 Axes>"
      ]
     },
     "metadata": {},
     "output_type": "display_data"
    }
   ],
   "source": [
    "plt.hist(jumps, np.arange(-6,6,0.5))"
   ]
  },
  {
   "cell_type": "code",
   "execution_count": 41,
   "metadata": {},
   "outputs": [],
   "source": [
    "model_code = \"\"\"\n",
    "data {\n",
    "    int<lower=0> N;\n",
    "    vector[N] jumps;\n",
    "}\n",
    "parameters {\n",
    "    real psi;\n",
    "    real mu;\n",
    "    real tau;\n",
    "    vector[N] aux;\n",
    "}\n",
    "model {\n",
    "    psi ~ gamma(1,1);\n",
    "    tau ~ gamma(1,1);\n",
    "    mu ~ normal(0, 1.0/sqrt(tau));\n",
    "    aux ~ normal(psi, 1.0);\n",
    "    jumps ~ normal(mu*aux, 1.0/sqrt(tau));\n",
    "}\n",
    "\"\"\""
   ]
  },
  {
   "cell_type": "code",
   "execution_count": 42,
   "metadata": {},
   "outputs": [
    {
     "name": "stderr",
     "output_type": "stream",
     "text": [
      "INFO:pystan:COMPILING THE C++ CODE FOR MODEL anon_model_49a6383b32d7d9157a4349713404fc1f NOW.\n",
      "WARNING:pystan:Rhat for parameter psi is 2.2056081204724975!\n",
      "WARNING:pystan:Rhat for parameter tau is 1.1424216114195156!\n",
      "WARNING:pystan:Rhat for parameter aux[371] is 1.1065875389993571!\n",
      "WARNING:pystan:Rhat for parameter aux[518] is 1.1093270030598983!\n",
      "WARNING:pystan:Rhat for parameter aux[1455] is 1.1052725148301246!\n",
      "WARNING:pystan:Rhat for parameter aux[1559] is 1.106398023243075!\n",
      "WARNING:pystan:Rhat for parameter aux[1872] is 1.100909742316838!\n",
      "WARNING:pystan:Rhat for parameter aux[2080] is 1.121276617139779!\n",
      "WARNING:pystan:Rhat for parameter aux[2122] is 1.1047663720530794!\n",
      "WARNING:pystan:Rhat for parameter aux[2228] is 1.1069299447276126!\n",
      "WARNING:pystan:Rhat for parameter aux[2469] is 1.1111662956088577!\n",
      "WARNING:pystan:Rhat for parameter aux[2939] is 1.1142857511871669!\n",
      "WARNING:pystan:Rhat for parameter aux[3266] is 1.1066253063704141!\n",
      "WARNING:pystan:Rhat for parameter aux[3478] is 1.1005791702984735!\n",
      "WARNING:pystan:Rhat for parameter aux[3792] is 1.1118898616124862!\n",
      "WARNING:pystan:Rhat for parameter aux[3999] is 1.1088144256390764!\n",
      "WARNING:pystan:Rhat for parameter aux[4056] is 1.1025083186353368!\n",
      "WARNING:pystan:Rhat for parameter aux[4227] is 1.1106668996512328!\n",
      "WARNING:pystan:Rhat for parameter aux[4429] is 1.1104035757434159!\n",
      "WARNING:pystan:Rhat for parameter lp__ is 1.1875070292318122!\n",
      "WARNING:pystan:Rhat above 1.1 or below 0.9 indicates that the chains very likely have not mixed\n",
      "WARNING:pystan:127 of 1000 iterations ended with a divergence (12.7%).\n",
      "WARNING:pystan:Try running with adapt_delta larger than 0.8 to remove the divergences.\n"
     ]
    }
   ],
   "source": [
    "data = {'N': len(jumps), 'jumps': jumps}\n",
    "fit = pystan.stan(model_code=model_code, data=data, iter=1000, chains=2)"
   ]
  },
  {
   "cell_type": "code",
   "execution_count": 46,
   "metadata": {},
   "outputs": [
    {
     "data": {
      "text/plain": [
       "(array([  0.,   0.,   0.,   0.,   0.,   0.,   0.,   0.,  40., 188., 592.,\n",
       "        166.,  14.,   0.,   0.,   0.,   0.,   0.,   0.]),\n",
       " array([-2.0000000e+00, -1.8000000e+00, -1.6000000e+00, -1.4000000e+00,\n",
       "        -1.2000000e+00, -1.0000000e+00, -8.0000000e-01, -6.0000000e-01,\n",
       "        -4.0000000e-01, -2.0000000e-01, -4.4408921e-16,  2.0000000e-01,\n",
       "         4.0000000e-01,  6.0000000e-01,  8.0000000e-01,  1.0000000e+00,\n",
       "         1.2000000e+00,  1.4000000e+00,  1.6000000e+00,  1.8000000e+00]),\n",
       " <a list of 19 Patch objects>)"
      ]
     },
     "execution_count": 46,
     "metadata": {},
     "output_type": "execute_result"
    },
    {
     "data": {
      "image/png": "[encoded data removed]",
      "text/plain": [
       "<Figure size 432x288 with 1 Axes>"
      ]
     },
     "metadata": {},
     "output_type": "display_data"
    }
   ],
   "source": [
    "mu_sample = fit['mu']\n",
    "plt.hist(mu_sample, bins=np.arange(-2,2,0.2))"
   ]
  },
  {
   "cell_type": "code",
   "execution_count": 48,
   "metadata": {},
   "outputs": [],
   "source": [
    "from scipy.stats import poisson"
   ]
  },
  {
   "cell_type": "code",
   "execution_count": 68,
   "metadata": {},
   "outputs": [
    {
     "data": {
      "text/plain": [
       "1.5905"
      ]
     },
     "execution_count": 68,
     "metadata": {},
     "output_type": "execute_result"
    }
   ],
   "source": [
    "arr = []\n",
    "for _ in range(10000):\n",
    "    arr.append(poisson.ppf(np.random.uniform(low=poisson.pmf(0, 1)), 1))\n",
    "np.mean(arr)"
   ]
  },
  {
   "cell_type": "code",
   "execution_count": 54,
   "metadata": {},
   "outputs": [
    {
     "data": {
      "text/plain": [
       "[2]"
      ]
     },
     "execution_count": 54,
     "metadata": {},
     "output_type": "execute_result"
    }
   ],
   "source": [
    "a = []\n",
    "a.append(2)\n",
    "a"
   ]
  },
  {
   "cell_type": "code",
   "execution_count": 69,
   "metadata": {},
   "outputs": [
    {
     "data": {
      "text/plain": [
       "1.571"
      ]
     },
     "execution_count": 69,
     "metadata": {},
     "output_type": "execute_result"
    }
   ],
   "source": [
    "arr1 = []\n",
    "for _ in range(10000):\n",
    "    a = np.random.poisson(1)\n",
    "    while a == 0: a = np.random.poisson(1)\n",
    "    arr1.append(a)\n",
    "np.mean(arr1)"
   ]
  },
  {
   "cell_type": "code",
   "execution_count": null,
   "metadata": {},
   "outputs": [],
   "source": []
  }
 ],
 "metadata": {
  "kernelspec": {
   "display_name": "Python 3",
   "language": "python",
   "name": "python3"
  },
  "language_info": {
   "codemirror_mode": {
    "name": "ipython",
    "version": 3
   },
   "file_extension": ".py",
   "mimetype": "text/x-python",
   "name": "python",
   "nbconvert_exporter": "python",
   "pygments_lexer": "ipython3",
   "version": "3.6.5"
  }
 },
 "nbformat": 4,
 "nbformat_minor": 2
}
